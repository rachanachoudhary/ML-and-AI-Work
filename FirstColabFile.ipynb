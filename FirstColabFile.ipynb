{
  "nbformat": 4,
  "nbformat_minor": 0,
  "metadata": {
    "colab": {
      "provenance": [],
      "authorship_tag": "ABX9TyOajCf2ERItjybAQ2nmGwQa",
      "include_colab_link": true
    },
    "kernelspec": {
      "name": "python3",
      "display_name": "Python 3"
    },
    "language_info": {
      "name": "python"
    }
  },
  "cells": [
    {
      "cell_type": "markdown",
      "metadata": {
        "id": "view-in-github",
        "colab_type": "text"
      },
      "source": [
        "<a href=\"https://colab.research.google.com/github/rachanachoudhary/ML-and-AI-Work/blob/main/FirstColabFile.ipynb\" target=\"_parent\"><img src=\"https://colab.research.google.com/assets/colab-badge.svg\" alt=\"Open In Colab\"/></a>"
      ]
    },
    {
      "cell_type": "code",
      "execution_count": 1,
      "metadata": {
        "colab": {
          "base_uri": "https://localhost:8080/",
          "height": 241
        },
        "id": "2U4fIaEbqhqm",
        "outputId": "4c7cff78-6602-4a51-b061-219c99801364"
      },
      "outputs": [
        {
          "output_type": "error",
          "ename": "NameError",
          "evalue": "name 'marks' is not defined",
          "traceback": [
            "\u001b[0;31m---------------------------------------------------------------------------\u001b[0m",
            "\u001b[0;31mNameError\u001b[0m                                 Traceback (most recent call last)",
            "\u001b[0;32m/tmp/ipython-input-2559777952.py\u001b[0m in \u001b[0;36m<cell line: 0>\u001b[0;34m()\u001b[0m\n\u001b[0;32m----> 1\u001b[0;31m \u001b[0;32mif\u001b[0m \u001b[0;34m(\u001b[0m\u001b[0mmarks\u001b[0m \u001b[0;34m>\u001b[0m \u001b[0;36m90\u001b[0m\u001b[0;34m)\u001b[0m\u001b[0;34m:\u001b[0m\u001b[0;34m\u001b[0m\u001b[0;34m\u001b[0m\u001b[0m\n\u001b[0m\u001b[1;32m      2\u001b[0m     \u001b[0mprint\u001b[0m\u001b[0;34m(\u001b[0m\u001b[0;34m\"Congratulations! You have scored A+\"\u001b[0m\u001b[0;34m)\u001b[0m\u001b[0;34m\u001b[0m\u001b[0;34m\u001b[0m\u001b[0m\n\u001b[1;32m      3\u001b[0m \u001b[0;32melif\u001b[0m \u001b[0;34m(\u001b[0m\u001b[0mmarks\u001b[0m \u001b[0;34m>=\u001b[0m \u001b[0;36m80\u001b[0m \u001b[0;32mand\u001b[0m \u001b[0mmarks\u001b[0m \u001b[0;34m<=\u001b[0m \u001b[0;36m90\u001b[0m\u001b[0;34m)\u001b[0m\u001b[0;34m:\u001b[0m\u001b[0;34m\u001b[0m\u001b[0;34m\u001b[0m\u001b[0m\n\u001b[1;32m      4\u001b[0m     \u001b[0mprint\u001b[0m\u001b[0;34m(\u001b[0m\u001b[0;34m\"Congratulations! You have scored A-\"\u001b[0m\u001b[0;34m)\u001b[0m\u001b[0;34m\u001b[0m\u001b[0;34m\u001b[0m\u001b[0m\n\u001b[1;32m      5\u001b[0m \u001b[0;32melse\u001b[0m\u001b[0;34m:\u001b[0m\u001b[0;34m\u001b[0m\u001b[0;34m\u001b[0m\u001b[0m\n",
            "\u001b[0;31mNameError\u001b[0m: name 'marks' is not defined"
          ]
        }
      ],
      "source": [
        "if (marks > 90):\n",
        "    print(\"Congratulations! You have scored A+\")\n",
        "elif (marks >= 80 and marks <= 90):\n",
        "    print(\"Congratulations! You have scored A-\")\n",
        "else:\n",
        "    print(\"Sorry. You have not passed this course\")"
      ]
    },
    {
      "cell_type": "markdown",
      "source": [],
      "metadata": {
        "id": "OJR3B0wkqeHl"
      }
    },
    {
      "cell_type": "code",
      "source": [],
      "metadata": {
        "id": "71ppOUY7qew-"
      },
      "execution_count": null,
      "outputs": []
    },
    {
      "cell_type": "markdown",
      "source": [
        "# New Section"
      ],
      "metadata": {
        "id": "miT3Bjmcp_LK"
      }
    },
    {
      "cell_type": "code",
      "source": [
        "5 == (3+2)"
      ],
      "metadata": {
        "id": "ZX_HlbYdq7-R"
      },
      "execution_count": null,
      "outputs": []
    },
    {
      "cell_type": "code",
      "source": [
        "print(3+(33))"
      ],
      "metadata": {
        "id": "qZQPqc-3rKBY"
      },
      "execution_count": null,
      "outputs": []
    },
    {
      "cell_type": "code",
      "source": [
        "a='5a'\n",
        "int(a)"
      ],
      "metadata": {
        "id": "2IYBPBzZrY6z"
      },
      "execution_count": null,
      "outputs": []
    },
    {
      "cell_type": "code",
      "source": [
        "list1 = [2,3,4,5,]\n",
        "for i in list1:\n",
        "  print(i)\n",
        ""
      ],
      "metadata": {
        "id": "_oPuTxsWtQSd"
      },
      "execution_count": null,
      "outputs": []
    },
    {
      "cell_type": "code",
      "source": [
        "sentence = input(\"How are you doing : \")\n",
        "words = sentence.split()\n",
        "print(words)\n",
        "words.sort()\n",
        "print(\"Here are the sorted words :\")\n",
        "for word in words:\n",
        "   print(word)"
      ],
      "metadata": {
        "id": "f-337WUhvYrQ"
      },
      "execution_count": null,
      "outputs": []
    },
    {
      "cell_type": "code",
      "source": [
        "car = {\"brand\": \"Audi\", \"model\": \"Q2\", \"year\": 1980}\n",
        "print(car)"
      ],
      "metadata": {
        "id": "WLeFE9uVvZC8"
      },
      "execution_count": null,
      "outputs": []
    },
    {
      "cell_type": "code",
      "source": [
        "dict1 = {\"car\" : \"Audi\", \"year\" : 1980}\n",
        "print(dict1)"
      ],
      "metadata": {
        "id": "xkF5BqqKt4nF"
      },
      "execution_count": null,
      "outputs": []
    }
  ]
}